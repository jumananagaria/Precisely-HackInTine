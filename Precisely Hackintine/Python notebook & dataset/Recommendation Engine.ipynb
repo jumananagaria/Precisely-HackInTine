{
 "cells": [
  {
   "cell_type": "code",
   "execution_count": 1,
   "metadata": {},
   "outputs": [],
   "source": [
    "import pickle\n",
    "import pandas as pd\n"
   ]
  },
  {
   "cell_type": "code",
   "execution_count": 2,
   "metadata": {},
   "outputs": [],
   "source": [
    "#opening our clustered model\n",
    "with open('finalized_model.sav', 'rb') as fid:\n",
    "    model = pickle.load(fid)\n"
   ]
  },
  {
   "cell_type": "code",
   "execution_count": 3,
   "metadata": {},
   "outputs": [],
   "source": [
    "data = pd.read_csv(\"Opportunity 2.csv\")\n"
   ]
  },
  {
   "cell_type": "code",
   "execution_count": 4,
   "metadata": {},
   "outputs": [],
   "source": [
    "data = data.dropna(how='any')\n"
   ]
  },
  {
   "cell_type": "code",
   "execution_count": 5,
   "metadata": {},
   "outputs": [],
   "source": [
    "#Converting the whole dataset into smaller case\n",
    "data=data.apply(lambda x: x.astype(str).str.lower())\n"
   ]
  },
  {
   "cell_type": "code",
   "execution_count": 6,
   "metadata": {},
   "outputs": [],
   "source": [
    "comb_frame = data['Discipline'].str.cat(\" \"+data['Sub tags'])\n"
   ]
  },
  {
   "cell_type": "code",
   "execution_count": 7,
   "metadata": {},
   "outputs": [],
   "source": [
    "from sklearn.cluster import KMeans\n",
    "from sklearn import metrics\n",
    "from sklearn.feature_extraction.text import TfidfVectorizer\n"
   ]
  },
  {
   "cell_type": "code",
   "execution_count": 8,
   "metadata": {},
   "outputs": [],
   "source": [
    "vectorizer = TfidfVectorizer(stop_words='english')\n",
    "X = vectorizer.fit_transform(comb_frame)\n"
   ]
  },
  {
   "cell_type": "code",
   "execution_count": 9,
   "metadata": {},
   "outputs": [],
   "source": [
    "label_dict = {\n",
    "                 0: \"Social Humanities\",\n",
    "                 1: \"Management\",                  \n",
    "                 2: \"Engineering & Technology  science\",\n",
    "                \n",
    "            }\n"
   ]
  },
  
  {
   "cell_type": "code",
   "execution_count": 11,
   "metadata": {},
   "outputs": [],
   "source": [
    "\n",
    "# load the complete data in a dataframe\n",
    "data=pd.read_csv(\"Opportunity 2.csv\")\n",
    "\n",
    "#Converting the whole dataset into smaller case\n",
    "data=data.apply(lambda x: x.astype(str).str.lower())\n",
    "\n",
    "data=data.dropna(how='any')\n",
    "\n",
    "# create new column in dataframe which is combination of (ID, Sub tags, Discipline) in existing data-frame\n",
    "data['InputString'] = data['ID'].str.cat(\" \"+data['Sub tags'].str.cat(\" \"+data['Discipline']))\n",
    "\n",
    "data['ClusterPrediction'] = \"\"\n",
    "\n",
    "\n",
    "def cluster_predict(str_input):\n",
    "    Y = vectorizer.transform(list(str_input))\n",
    "    prediction = model.predict(Y)\n",
    "    return prediction\n",
    "\n",
    "# Cluster category for each live course\n",
    "data['ClusterPrediction']=data.apply(lambda x: cluster_predict(data['InputString']), axis=0)\n"
   ]
  },
  {
   "cell_type": "code",
   "execution_count": 70,
   "metadata": {},
   "outputs": [],
   "source": [
    "def recommend_util(str_input):\n",
    "    \n",
    "    # match on the basis ID \n",
    "    temp_df = data.loc[data['ID'] == str_input]\n",
    "    temp_df['InputString'] = temp_df['ID'].str.cat(\" \"+temp_df['Sub tags'].str.cat(\" \"+temp_df['Discipline']))\n",
    "    str_input = list(temp_df['InputString'])\n",
    "    \n",
    "    \n",
    "    # Predict category of input string category\n",
    "    prediction_inp = cluster_predict(str_input)\n",
    "    prediction_inp = int(prediction_inp)\n",
    "    # Based on the above prediction 10 random courses are recommended from the whole data-frame\n",
    "    # Recommendation Logic is kept super-simple for current implementation.\n",
    "    temp_df = data.loc[data['ClusterPrediction'] == prediction_inp]\n",
    "    temp_df = temp_df.sample(2)\n",
    "    \n",
    "    return list(temp_df['ID'])\n",
    "\n"
   ]
  },
  {
   "cell_type": "code",
   "execution_count": 71,
   "metadata": {},
   "outputs": [
    {
     "name": "stdout",
     "output_type": "stream",
     "text": [
      "['267', '1471']\n",
      "['127', '1884']\n"
     ]
    },
    {
     "name": "stderr",
     "output_type": "stream",
     "text": [
      "C:\\Users\\Lenovo\\Anaconda3\\lib\\site-packages\\ipykernel_launcher.py:5: SettingWithCopyWarning: \n",
      "A value is trying to be set on a copy of a slice from a DataFrame.\n",
      "Try using .loc[row_indexer,col_indexer] = value instead\n",
      "\n",
      "See the caveats in the documentation: http://pandas.pydata.org/pandas-docs/stable/user_guide/indexing.html#returning-a-view-versus-a-copy\n",
      "  \"\"\"\n"
     ]
    }
   ],
   "source": [
    "if __name__ == '__main__':\n",
    "    queries = ['1','50']\n",
    "for query in queries:\n",
    "    res = recommend_util(query)\n",
    "    print(res)\n"
   ]
  },
  {
   "cell_type": "code",
   "execution_count": 13,
   "metadata": {},
   "outputs": [
    {
     "data": {
      "text/html": [
       "<div>\n",
       "<style scoped>\n",
       "    .dataframe tbody tr th:only-of-type {\n",
       "        vertical-align: middle;\n",
       "    }\n",
       "\n",
       "    .dataframe tbody tr th {\n",
       "        vertical-align: top;\n",
       "    }\n",
       "\n",
       "    .dataframe thead th {\n",
       "        text-align: right;\n",
       "    }\n",
       "</style>\n",
       "<table border=\"1\" class=\"dataframe\">\n",
       "  <thead>\n",
       "    <tr style=\"text-align: right;\">\n",
       "      <th></th>\n",
       "      <th>ID</th>\n",
       "      <th>Headline</th>\n",
       "      <th>Description</th>\n",
       "      <th>Funding</th>\n",
       "      <th>Deadline</th>\n",
       "      <th>Official Link</th>\n",
       "      <th>Type of opportunity</th>\n",
       "      <th>Sub tags</th>\n",
       "      <th>Discipline</th>\n",
       "      <th>Minimum Qualification / Applicable for</th>\n",
       "      <th>Countries eligible</th>\n",
       "      <th>Location of opportunity</th>\n",
       "      <th>InputString</th>\n",
       "      <th>ClusterPrediction</th>\n",
       "    </tr>\n",
       "  </thead>\n",
       "  <tbody>\n",
       "    <tr>\n",
       "      <th>0</th>\n",
       "      <td>1</td>\n",
       "      <td>international fellowship world forestry center</td>\n",
       "      <td>wfc’s discovery museum was opened in 1971 to e...</td>\n",
       "      <td>nan</td>\n",
       "      <td>10/15/2019</td>\n",
       "      <td>https://www.noticebard.com/call-for-applicatio...</td>\n",
       "      <td>conferences</td>\n",
       "      <td>nan</td>\n",
       "      <td>humanities and social sciences</td>\n",
       "      <td>bachelors</td>\n",
       "      <td>all</td>\n",
       "      <td>usa</td>\n",
       "      <td>1 nan humanities and social sciences</td>\n",
       "      <td>0</td>\n",
       "    </tr>\n",
       "    <tr>\n",
       "      <th>266</th>\n",
       "      <td>267</td>\n",
       "      <td>getty/acls postdoctoral fellowships in the his...</td>\n",
       "      <td>acls invites applications for getty/acls postd...</td>\n",
       "      <td>fully funded</td>\n",
       "      <td>10/23/2019</td>\n",
       "      <td>https://ofa.acls.org/</td>\n",
       "      <td>fellowships, scholarships</td>\n",
       "      <td>nan</td>\n",
       "      <td>humanities and social sciences</td>\n",
       "      <td>doctorate</td>\n",
       "      <td>all</td>\n",
       "      <td>usa</td>\n",
       "      <td>267 nan humanities and social sciences</td>\n",
       "      <td>0</td>\n",
       "    </tr>\n",
       "    <tr>\n",
       "      <th>1470</th>\n",
       "      <td>1471</td>\n",
       "      <td>humane studies fellowship 2020-2021</td>\n",
       "      <td>applications are open for the humane studies f...</td>\n",
       "      <td>nan</td>\n",
       "      <td>12/1/2019</td>\n",
       "      <td>https://opportunitydesk.org/2019/11/18/humane-...</td>\n",
       "      <td>fellowships</td>\n",
       "      <td>nan</td>\n",
       "      <td>humanities and social sciences</td>\n",
       "      <td>post doctorate</td>\n",
       "      <td>all</td>\n",
       "      <td>usa</td>\n",
       "      <td>1471 nan humanities and social sciences</td>\n",
       "      <td>0</td>\n",
       "    </tr>\n",
       "  </tbody>\n",
       "</table>\n",
       "</div>"
      ],
      "text/plain": [
       "        ID                                           Headline  \\\n",
       "0        1     international fellowship world forestry center   \n",
       "266    267  getty/acls postdoctoral fellowships in the his...   \n",
       "1470  1471                humane studies fellowship 2020-2021   \n",
       "\n",
       "                                            Description       Funding  \\\n",
       "0     wfc’s discovery museum was opened in 1971 to e...           nan   \n",
       "266   acls invites applications for getty/acls postd...  fully funded   \n",
       "1470  applications are open for the humane studies f...           nan   \n",
       "\n",
       "        Deadline                                      Official Link  \\\n",
       "0     10/15/2019  https://www.noticebard.com/call-for-applicatio...   \n",
       "266   10/23/2019                              https://ofa.acls.org/   \n",
       "1470   12/1/2019  https://opportunitydesk.org/2019/11/18/humane-...   \n",
       "\n",
       "            Type of opportunity Sub tags                      Discipline  \\\n",
       "0                   conferences      nan  humanities and social sciences   \n",
       "266   fellowships, scholarships      nan  humanities and social sciences   \n",
       "1470                fellowships      nan  humanities and social sciences   \n",
       "\n",
       "     Minimum Qualification / Applicable for Countries eligible  \\\n",
       "0                                 bachelors                all   \n",
       "266                               doctorate                all   \n",
       "1470                         post doctorate                all   \n",
       "\n",
       "     Location of opportunity                              InputString  \\\n",
       "0                        usa     1 nan humanities and social sciences   \n",
       "266                      usa   267 nan humanities and social sciences   \n",
       "1470                     usa  1471 nan humanities and social sciences   \n",
       "\n",
       "      ClusterPrediction  \n",
       "0                     0  \n",
       "266                   0  \n",
       "1470                  0  "
      ]
     },
     "execution_count": 13,
     "metadata": {},
     "output_type": "execute_result"
    }
   ],
   "source": [
    "data.iloc[[0,266,1470],:]"
   ]
  },
  {
   "cell_type": "code",
   "execution_count": 14,
   "metadata": {},
   "outputs": [
    {
     "data": {
      "text/html": [
       "<div>\n",
       "<style scoped>\n",
       "    .dataframe tbody tr th:only-of-type {\n",
       "        vertical-align: middle;\n",
       "    }\n",
       "\n",
       "    .dataframe tbody tr th {\n",
       "        vertical-align: top;\n",
       "    }\n",
       "\n",
       "    .dataframe thead th {\n",
       "        text-align: right;\n",
       "    }\n",
       "</style>\n",
       "<table border=\"1\" class=\"dataframe\">\n",
       "  <thead>\n",
       "    <tr style=\"text-align: right;\">\n",
       "      <th></th>\n",
       "      <th>ID</th>\n",
       "      <th>Headline</th>\n",
       "      <th>Description</th>\n",
       "      <th>Funding</th>\n",
       "      <th>Deadline</th>\n",
       "      <th>Official Link</th>\n",
       "      <th>Type of opportunity</th>\n",
       "      <th>Sub tags</th>\n",
       "      <th>Discipline</th>\n",
       "      <th>Minimum Qualification / Applicable for</th>\n",
       "      <th>Countries eligible</th>\n",
       "      <th>Location of opportunity</th>\n",
       "      <th>InputString</th>\n",
       "      <th>ClusterPrediction</th>\n",
       "    </tr>\n",
       "  </thead>\n",
       "  <tbody>\n",
       "    <tr>\n",
       "      <th>49</th>\n",
       "      <td>50</td>\n",
       "      <td>kectil leadership program 2020 for young leade...</td>\n",
       "      <td>applications are invited for the kectil web-ba...</td>\n",
       "      <td>partially funded</td>\n",
       "      <td>10/31/2019</td>\n",
       "      <td>https://kectil.com/holding-page-123/</td>\n",
       "      <td>fellowships</td>\n",
       "      <td>nan</td>\n",
       "      <td>all</td>\n",
       "      <td>all</td>\n",
       "      <td>all</td>\n",
       "      <td>online</td>\n",
       "      <td>50 nan all</td>\n",
       "      <td>1</td>\n",
       "    </tr>\n",
       "    <tr>\n",
       "      <th>126</th>\n",
       "      <td>127</td>\n",
       "      <td>aspen institute’s new voices fellowship 2020 f...</td>\n",
       "      <td>applications are invited for the aspen institu...</td>\n",
       "      <td>fully funded</td>\n",
       "      <td>10/15/2019</td>\n",
       "      <td>http://newvoicesfellows.aspeninstitute.org/nom...</td>\n",
       "      <td>fellowships</td>\n",
       "      <td>nan</td>\n",
       "      <td>all</td>\n",
       "      <td>all</td>\n",
       "      <td>all</td>\n",
       "      <td>usa</td>\n",
       "      <td>127 nan all</td>\n",
       "      <td>1</td>\n",
       "    </tr>\n",
       "    <tr>\n",
       "      <th>1883</th>\n",
       "      <td>1884</td>\n",
       "      <td>amgen scholars asia program 2020</td>\n",
       "      <td>amgen scholars is hosted at four premier educa...</td>\n",
       "      <td>nan</td>\n",
       "      <td>2/3/2020</td>\n",
       "      <td>http://amgenscholars.com/asia-program/</td>\n",
       "      <td>fellowships</td>\n",
       "      <td>nan</td>\n",
       "      <td>all</td>\n",
       "      <td>bachelors</td>\n",
       "      <td>all</td>\n",
       "      <td>none</td>\n",
       "      <td>1884 nan all</td>\n",
       "      <td>1</td>\n",
       "    </tr>\n",
       "  </tbody>\n",
       "</table>\n",
       "</div>"
      ],
      "text/plain": [
       "        ID                                           Headline  \\\n",
       "49      50  kectil leadership program 2020 for young leade...   \n",
       "126    127  aspen institute’s new voices fellowship 2020 f...   \n",
       "1883  1884                   amgen scholars asia program 2020   \n",
       "\n",
       "                                            Description           Funding  \\\n",
       "49    applications are invited for the kectil web-ba...  partially funded   \n",
       "126   applications are invited for the aspen institu...      fully funded   \n",
       "1883  amgen scholars is hosted at four premier educa...               nan   \n",
       "\n",
       "        Deadline                                      Official Link  \\\n",
       "49    10/31/2019               https://kectil.com/holding-page-123/   \n",
       "126   10/15/2019  http://newvoicesfellows.aspeninstitute.org/nom...   \n",
       "1883    2/3/2020             http://amgenscholars.com/asia-program/   \n",
       "\n",
       "     Type of opportunity Sub tags Discipline  \\\n",
       "49           fellowships      nan        all   \n",
       "126          fellowships      nan        all   \n",
       "1883         fellowships      nan        all   \n",
       "\n",
       "     Minimum Qualification / Applicable for Countries eligible  \\\n",
       "49                                      all                all   \n",
       "126                                     all                all   \n",
       "1883                              bachelors                all   \n",
       "\n",
       "     Location of opportunity   InputString  ClusterPrediction  \n",
       "49                    online    50 nan all                  1  \n",
       "126                      usa   127 nan all                  1  \n",
       "1883                    none  1884 nan all                  1  "
      ]
     },
     "execution_count": 14,
     "metadata": {},
     "output_type": "execute_result"
    }
   ],
   "source": [
    "data.iloc[[49,126,1883]]"
   ]
  },
  {
   "cell_type": "markdown",
   "metadata": {},
   "source": [
    "For <b>Query 1-'1'</b>: It recommended us ['267', '1471'] this array.\n",
    "\n",
    "\n",
    "<br>\n",
    "<b>1</b>\t-International Fellowship World Forestry Center\n",
    "<br><b>Deadline:</b>\t10/15/2019\t<b>Link:</b>https://www.noticebard.com/call-for-applications-international-fellowship-world-forestry-center/  <b>Type of Opportunity:</b>Conferences\t\t<b>Discipline:</b>Humanities and Social Sciences\t<b>Minimum Qualification / Applicable for:</b>Bachelors\t<b>Countries Eligible:</b>ALL\t<b>Location of opportunity:</b>USA\n",
    "\t\t\n",
    "\n",
    "    \n",
    "<br>\n",
    "<br>\n",
    "<i>The recommended options are:</i>\n",
    "\n",
    "<b>267</b>\t-Getty/ACLS Postdoctoral Fellowships in the History of Art\t\t<br><b>Funded:</b>Fully funded\t<b>Deadline:</b>10/23/2019\t<b>Link:</b>https://ofa.acls.org/\t<b>Type of Opportunity:</b>Fellowships, Scholarships\t\t<b>Discipline:</b>Humanities and Social Sciences\t<b>Minimum Qualification / Applicable for:</b>Doctorate\t   <b>Countries Eligible:</b>All <b>Location of opportunity:</b>\tUSA\n",
    "\n",
    "<br>\n",
    "<br>\n",
    "<b>1471</b>\t-Humane Studies Fellowship 2020-2021\t\t<br>\t<b>Deadline:</b>12/1/2019\t<b>Link:</b>https://opportunitydesk.org/2019/11/18/humane-studies-fellowship-2020-2021/\t<b>Type of Opportunity:</b>Fellowships\t\t<b>Discipline:</b>Humanities and Social Sciences\t<b>Minimum Qualification / Applicable for:</b>Post Doctorate\t   <b>Countries Eligible:</b>All <b>Location of opportunity:</b>\tUSA\n",
    "<br>\n",
    "\n",
    "\n"
   ]
  },
  {
   "cell_type": "markdown",
   "metadata": {},
   "source": [
    "For <b>Query 2-'50'</b>: It recommended us ['127', '1884'] this array.\n",
    "\n",
    "\n",
    "<br>\n",
    "<b>50</b>\t-Kectil Leadership Program 2020 for Young Leaders in Developing Countries\n",
    "<br><b>Funded:</b>Partially Funded\t <b>Deadline:</b>\t10/31/2019\t<b>Link:</b>https://kectil.com/holding-page-123/  <b>Type of Opportunity:</b>Fellowships\t\t\t<b>Discipline:</b>All\t<b>Minimum Qualification / Applicable for:</b>All\t<b>Countries Eligible:</b>ALL\t<b>Location of opportunity:</b>Online\n",
    "\t\t\n",
    "\n",
    "<br>\n",
    "<br>\n",
    "<i>The recommended options are:</i>\n",
    "\n",
    "<b>127\t</b>\t-Aspen Instituteâ€™s New Voices Fellowship 2020 for Development Professionals\t<br><b>Funded:</b>Fully funded\t<b>Deadline:</b>10/15/2019<b>Link:</b>http://newvoicesfellows.aspeninstitute.org/Nominations<b>Type of Opportunity:</b>Fellowships\t\t\t<b>Discipline:</b>All\t<b>Minimum Qualification / Applicable for:</b>All\t   <b>Countries Eligible:</b>All <b>Location of opportunity:</b>\tUSA\n",
    "\n",
    "\n",
    "<br>\n",
    "<br>\n",
    "<b>1884</b>\t-Amgen Scholars Asia Program 2020\t\t<br>\t<b>Deadline:</b>\t2/3/2020\t<b>Link:</b>http://amgenscholars.com/asia-program/\t<b>Type of Opportunity:</b>Fellowships\t\t<b>Discipline:</b>All\t<b>Minimum Qualification / Applicable for:</b>\tBachelors\t   <b>Countries Eligible:</b>All <b>Location of opportunity:</b>\tNone\n",
    "<br>\n",
    "\n",
    "\t\n"
   ]
  },
  {
   "cell_type": "code",
   "execution_count": null,
   "metadata": {},
   "outputs": [],
   "source": []
  },
  {
   "cell_type": "code",
   "execution_count": null,
   "metadata": {},
   "outputs": [],
   "source": []
  },
  {
   "cell_type": "code",
   "execution_count": null,
   "metadata": {},
   "outputs": [],
   "source": []
  },
  {
   "cell_type": "code",
   "execution_count": null,
   "metadata": {},
   "outputs": [],
   "source": []
  },
  {
   "cell_type": "code",
   "execution_count": null,
   "metadata": {},
   "outputs": [],
   "source": []
  }
 ],
 "metadata": {
  "kernelspec": {
   "display_name": "Python 3",
   "language": "python",
   "name": "python3"
  },
  "language_info": {
   "codemirror_mode": {
    "name": "ipython",
    "version": 3
   },
   "file_extension": ".py",
   "mimetype": "text/x-python",
   "name": "python",
   "nbconvert_exporter": "python",
   "pygments_lexer": "ipython3",
   "version": "3.7.3"
  }
 },
 "nbformat": 4,
 "nbformat_minor": 4
}
