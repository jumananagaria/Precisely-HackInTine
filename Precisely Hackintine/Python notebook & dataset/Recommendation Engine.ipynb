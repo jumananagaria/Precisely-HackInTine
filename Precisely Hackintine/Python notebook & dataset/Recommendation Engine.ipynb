{
 "cells": [
  {
   "cell_type": "code",
   "execution_count": 56,
   "metadata": {},
   "outputs": [],
   "source": [
    "import pickle\n",
    "import pandas as pd\n"
   ]
  },
  {
   "cell_type": "code",
   "execution_count": 57,
   "metadata": {},
   "outputs": [],
   "source": [
    "#opening our clustered model\n",
    "with open('finalized_model.sav', 'rb') as fid:\n",
    "    model = pickle.load(fid)\n"
   ]
  },
  {
   "cell_type": "code",
   "execution_count": 59,
   "metadata": {},
   "outputs": [],
   "source": [
    "data = pd.read_csv(\"Opportunity 2.csv\")\n"
   ]
  },
  {
   "cell_type": "code",
   "execution_count": 60,
   "metadata": {},
   "outputs": [],
   "source": [
    "data = data.dropna(how='any')\n"
   ]
  },
  {
   "cell_type": "code",
   "execution_count": 61,
   "metadata": {},
   "outputs": [],
   "source": [
    "#Converting the whole dataset into smaller case\n",
    "data=data.apply(lambda x: x.astype(str).str.lower())\n"
   ]
  },
  {
   "cell_type": "code",
   "execution_count": 62,
   "metadata": {},
   "outputs": [],
   "source": [
    "comb_frame = data['Discipline'].str.cat(\" \"+data['Sub tags'])\n"
   ]
  },
  {
   "cell_type": "code",
   "execution_count": 63,
   "metadata": {},
   "outputs": [],
   "source": [
    "from sklearn.cluster import KMeans\n",
    "from sklearn import metrics\n",
    "from sklearn.feature_extraction.text import TfidfVectorizer\n"
   ]
  },
  {
   "cell_type": "code",
   "execution_count": 64,
   "metadata": {},
   "outputs": [],
   "source": [
    "vectorizer = TfidfVectorizer(stop_words='english')\n",
    "X = vectorizer.fit_transform(comb_frame)\n"
   ]
  },
  {
   "cell_type": "code",
   "execution_count": 65,
   "metadata": {},
   "outputs": [],
   "source": [
    "label_dict = {\n",
    "                 0: \"Social Humanities\",\n",
    "                 1: \"Management\",                  \n",
    "                 2: \"Engineering & Technology  science\",\n",
    "                \n",
    "            }\n"
   ]
  },
  {
   "cell_type": "code",
   "execution_count": 67,
   "metadata": {},
   "outputs": [],
   "source": [
    "# load the complete data in a dataframe\n",
    "data=pd.read_csv(\"Opportunity 2.csv\")\n",
    "\n",
    "#Converting the whole dataset into smaller case\n",
    "data=data.apply(lambda x: x.astype(str).str.lower())\n",
    "\n",
    "data=data.dropna(how='any')\n",
    "\n",
    "# create new column in dataframe which is combination of (ID, Sub tags, Discipline) in existing data-frame\n",
    "data['InputString'] = data['Discipline'].str.cat(\" \"+data['Sub tags'])\n",
    "\n",
    "data['ClusterPrediction'] = \"\"\n",
    "\n",
    "\n",
    "def cluster_predict(str_input):\n",
    "    Y = vectorizer.fit_transform(list(str_input))\n",
    "    prediction = model.predict(Y)\n",
    "    return prediction\n",
    "\n",
    "# Cluster category for each live course\n",
    "data['ClusterPrediction']=data.apply(lambda x: cluster_predict(data['InputString']), axis=0)\n"
   ]
  },
  {
   "cell_type": "code",
   "execution_count": 69,
   "metadata": {},
   "outputs": [],
   "source": [
    "\n",
    "# load the complete data in a dataframe\n",
    "data=pd.read_csv(\"Opportunity 2.csv\")\n",
    "\n",
    "#Converting the whole dataset into smaller case\n",
    "data=data.apply(lambda x: x.astype(str).str.lower())\n",
    "\n",
    "data=data.dropna(how='any')\n",
    "\n",
    "# create new column in dataframe which is combination of (ID, Sub tags, Discipline) in existing data-frame\n",
    "data['InputString'] = data['ID'].str.cat(\" \"+data['Sub tags'].str.cat(\" \"+data['Discipline']))\n",
    "\n",
    "data['ClusterPrediction'] = \"\"\n",
    "\n",
    "\n",
    "def cluster_predict(str_input):\n",
    "    Y = vectorizer.transform(list(str_input))\n",
    "    prediction = model.predict(Y)\n",
    "    return prediction\n",
    "\n",
    "# Cluster category for each live course\n",
    "data['ClusterPrediction']=data.apply(lambda x: cluster_predict(data['InputString']), axis=0)\n"
   ]
  },
  {
   "cell_type": "code",
   "execution_count": 70,
   "metadata": {},
   "outputs": [],
   "source": [
    "def recommend_util(str_input):\n",
    "    \n",
    "    # match on the basis ID \n",
    "    temp_df = data.loc[data['ID'] == str_input]\n",
    "    temp_df['InputString'] = temp_df['ID'].str.cat(\" \"+temp_df['Sub tags'].str.cat(\" \"+temp_df['Discipline']))\n",
    "    str_input = list(temp_df['InputString'])\n",
    "    \n",
    "    \n",
    "    # Predict category of input string category\n",
    "    prediction_inp = cluster_predict(str_input)\n",
    "    prediction_inp = int(prediction_inp)\n",
    "    # Based on the above prediction 10 random courses are recommended from the whole data-frame\n",
    "    # Recommendation Logic is kept super-simple for current implementation.\n",
    "    temp_df = data.loc[data['ClusterPrediction'] == prediction_inp]\n",
    "    temp_df = temp_df.sample(2)\n",
    "    \n",
    "    return list(temp_df['ID'])\n",
    "\n"
   ]
  },
  {
   "cell_type": "code",
   "execution_count": 71,
   "metadata": {},
   "outputs": [
    {
     "name": "stdout",
     "output_type": "stream",
     "text": [
      "['267', '1471']\n",
      "['127', '1884']\n"
     ]
    },
    {
     "name": "stderr",
     "output_type": "stream",
     "text": [
      "C:\\Users\\Lenovo\\Anaconda3\\lib\\site-packages\\ipykernel_launcher.py:5: SettingWithCopyWarning: \n",
      "A value is trying to be set on a copy of a slice from a DataFrame.\n",
      "Try using .loc[row_indexer,col_indexer] = value instead\n",
      "\n",
      "See the caveats in the documentation: http://pandas.pydata.org/pandas-docs/stable/user_guide/indexing.html#returning-a-view-versus-a-copy\n",
      "  \"\"\"\n"
     ]
    }
   ],
   "source": [
    "if __name__ == '__main__':\n",
    "    queries = ['1','50']\n",
    "for query in queries:\n",
    "    res = recommend_util(query)\n",
    "    print(res)\n"
   ]
  },
  {
   "attachments": {},
   "cell_type": "markdown",
   "metadata": {},
   "source": [
    "For <b>Query 1-'1'</b>: It recommended us ['267', '1471'] this array.\n",
    "\n",
    "\n",
    "<br>\n",
    "<b>1</b>\t-International Fellowship World Forestry Center\n",
    "<br><b>Deadline:</b>\t10/15/2019\t<b>Link:</b>https://www.noticebard.com/call-for-applications-international-fellowship-world-forestry-center/  <b>Type of Opportunity:</b>Conferences\t\t<b>Discipline:</b>Humanities and Social Sciences\t<b>Minimum Qualification / Applicable for:</b>Bachelors\t<b>Countries Eligible:</b>ALL\t<b>Location of opportunity:</b>USA\n",
    "\t\t\n",
    "\n",
    "    \n",
    "<br>\n",
    "<br>\n",
    "<i>The recommended options are:</i>\n",
    "\n",
    "<b>267</b>\t-Getty/ACLS Postdoctoral Fellowships in the History of Art\t\t<br><b>Funded:</b>Fully funded\t<b>Deadline:</b>10/23/2019\t<b>Link:</b>https://ofa.acls.org/\t<b>Type of Opportunity:</b>Fellowships, Scholarships\t\t<b>Discipline:</b>Humanities and Social Sciences\t<b>Minimum Qualification / Applicable for:</b>Doctorate\t   <b>Countries Eligible:</b>All <b>Location of opportunity:</b>\tUSA\n",
    "\n",
    "<br>\n",
    "<br>\n",
    "<b>1471</b>\t-Humane Studies Fellowship 2020-2021\t\t<br>\t<b>Deadline:</b>12/1/2019\t<b>Link:</b>https://opportunitydesk.org/2019/11/18/humane-studies-fellowship-2020-2021/\t<b>Type of Opportunity:</b>Fellowships\t\t<b>Discipline:</b>Humanities and Social Sciences\t<b>Minimum Qualification / Applicable for:</b>Post Doctorate\t   <b>Countries Eligible:</b>All <b>Location of opportunity:</b>\tUSA\n",
    "<br>\n",
    "\n",
    "\n"
   ]
  },
  {
   "attachments": {},
   "cell_type": "markdown",
   "metadata": {},
   "source": [
    "For <b>Query 2-'50'</b>: It recommended us ['127', '1884'] this array.\n",
    "\n",
    "\n",
    "<br>\n",
    "<b>50</b>\t-Kectil Leadership Program 2020 for Young Leaders in Developing Countries\n",
    "<br><b>Funded:</b>Partially Funded\t <b>Deadline:</b>\t10/31/2019\t<b>Link:</b>https://kectil.com/holding-page-123/  <b>Type of Opportunity:</b>Fellowships\t\t\t<b>Discipline:</b>All\t<b>Minimum Qualification / Applicable for:</b>All\t<b>Countries Eligible:</b>ALL\t<b>Location of opportunity:</b>Online\n",
    "\t\t\n",
    "\n",
    "<br>\n",
    "<br>\n",
    "<i>The recommended options are:</i>\n",
    "\n",
    "<b>127\t</b>\t-Aspen Instituteâ€™s New Voices Fellowship 2020 for Development Professionals\t<br><b>Funded:</b>Fully funded\t<b>Deadline:</b>10/15/2019<b>Link:</b>http://newvoicesfellows.aspeninstitute.org/Nominations<b>Type of Opportunity:</b>Fellowships\t\t\t<b>Discipline:</b>All\t<b>Minimum Qualification / Applicable for:</b>All\t   <b>Countries Eligible:</b>All <b>Location of opportunity:</b>\tUSA\n",
    "\n",
    "\n",
    "<br>\n",
    "<br>\n",
    "<b>1884</b>\t-Amgen Scholars Asia Program 2020\t\t<br>\t<b>Deadline:</b>\t2/3/2020\t<b>Link:</b>http://amgenscholars.com/asia-program/\t<b>Type of Opportunity:</b>Fellowships\t\t<b>Discipline:</b>All\t<b>Minimum Qualification / Applicable for:</b>\tBachelors\t   <b>Countries Eligible:</b>All <b>Location of opportunity:</b>\tNone\n",
    "<br>\n",
    "\n",
    "\t\n"
   ]
  },
  {
   "cell_type": "code",
   "execution_count": null,
   "metadata": {},
   "outputs": [],
   "source": []
  },
  {
   "cell_type": "code",
   "execution_count": null,
   "metadata": {},
   "outputs": [],
   "source": []
  },
  {
   "cell_type": "code",
   "execution_count": null,
   "metadata": {},
   "outputs": [],
   "source": []
  },
  {
   "cell_type": "code",
   "execution_count": null,
   "metadata": {},
   "outputs": [],
   "source": []
  },
  {
   "cell_type": "code",
   "execution_count": null,
   "metadata": {},
   "outputs": [],
   "source": []
  }
 ],
 "metadata": {
  "kernelspec": {
   "display_name": "Python 3",
   "language": "python",
   "name": "python3"
  },
  "language_info": {
   "codemirror_mode": {
    "name": "ipython",
    "version": 3
   },
   "file_extension": ".py",
   "mimetype": "text/x-python",
   "name": "python",
   "nbconvert_exporter": "python",
   "pygments_lexer": "ipython3",
   "version": "3.7.3"
  }
 },
 "nbformat": 4,
 "nbformat_minor": 4
}
